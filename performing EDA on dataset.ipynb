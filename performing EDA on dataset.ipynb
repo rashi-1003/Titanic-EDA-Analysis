{
 "cells": [
  {
   "cell_type": "markdown",
   "id": "408378e7",
   "metadata": {},
   "source": [
    "# STEPS TO BE PERFORMED IN EDA :-"
   ]
  },
  {
   "cell_type": "code",
   "execution_count": 182,
   "id": "259baf46",
   "metadata": {},
   "outputs": [],
   "source": [
    "#### importing the required libraries #####\n",
    "import numpy as np\n",
    "import pandas as pd\n",
    "import matplotlib.pyplot as mplot\n",
    "import seaborn as sns\n",
    "from scipy.stats import chi2_contingency"
   ]
  },
  {
   "cell_type": "code",
   "execution_count": 104,
   "id": "3c543ddf",
   "metadata": {},
   "outputs": [
    {
     "data": {
      "text/html": [
       "<div>\n",
       "<style scoped>\n",
       "    .dataframe tbody tr th:only-of-type {\n",
       "        vertical-align: middle;\n",
       "    }\n",
       "\n",
       "    .dataframe tbody tr th {\n",
       "        vertical-align: top;\n",
       "    }\n",
       "\n",
       "    .dataframe thead th {\n",
       "        text-align: right;\n",
       "    }\n",
       "</style>\n",
       "<table border=\"1\" class=\"dataframe\">\n",
       "  <thead>\n",
       "    <tr style=\"text-align: right;\">\n",
       "      <th></th>\n",
       "      <th>PassengerId</th>\n",
       "      <th>Survived</th>\n",
       "      <th>Pclass</th>\n",
       "      <th>Name</th>\n",
       "      <th>Sex</th>\n",
       "      <th>Age</th>\n",
       "      <th>SibSp</th>\n",
       "      <th>Parch</th>\n",
       "      <th>Ticket</th>\n",
       "      <th>Fare</th>\n",
       "      <th>Cabin</th>\n",
       "      <th>Embarked</th>\n",
       "      <th>family_size</th>\n",
       "    </tr>\n",
       "  </thead>\n",
       "  <tbody>\n",
       "    <tr>\n",
       "      <th>0</th>\n",
       "      <td>1</td>\n",
       "      <td>0</td>\n",
       "      <td>3</td>\n",
       "      <td>Braund, Mr. Owen Harris</td>\n",
       "      <td>male</td>\n",
       "      <td>22.0</td>\n",
       "      <td>1</td>\n",
       "      <td>0</td>\n",
       "      <td>A/5 21171</td>\n",
       "      <td>7.2500</td>\n",
       "      <td>NaN</td>\n",
       "      <td>S</td>\n",
       "      <td>2.0</td>\n",
       "    </tr>\n",
       "    <tr>\n",
       "      <th>1</th>\n",
       "      <td>2</td>\n",
       "      <td>1</td>\n",
       "      <td>1</td>\n",
       "      <td>Cumings, Mrs. John Bradley (Florence Briggs Th...</td>\n",
       "      <td>female</td>\n",
       "      <td>38.0</td>\n",
       "      <td>1</td>\n",
       "      <td>0</td>\n",
       "      <td>PC 17599</td>\n",
       "      <td>71.2833</td>\n",
       "      <td>C85</td>\n",
       "      <td>C</td>\n",
       "      <td>2.0</td>\n",
       "    </tr>\n",
       "    <tr>\n",
       "      <th>2</th>\n",
       "      <td>3</td>\n",
       "      <td>1</td>\n",
       "      <td>3</td>\n",
       "      <td>Heikkinen, Miss. Laina</td>\n",
       "      <td>female</td>\n",
       "      <td>26.0</td>\n",
       "      <td>0</td>\n",
       "      <td>0</td>\n",
       "      <td>STON/O2. 3101282</td>\n",
       "      <td>7.9250</td>\n",
       "      <td>NaN</td>\n",
       "      <td>S</td>\n",
       "      <td>1.0</td>\n",
       "    </tr>\n",
       "    <tr>\n",
       "      <th>3</th>\n",
       "      <td>4</td>\n",
       "      <td>1</td>\n",
       "      <td>1</td>\n",
       "      <td>Futrelle, Mrs. Jacques Heath (Lily May Peel)</td>\n",
       "      <td>female</td>\n",
       "      <td>35.0</td>\n",
       "      <td>1</td>\n",
       "      <td>0</td>\n",
       "      <td>113803</td>\n",
       "      <td>53.1000</td>\n",
       "      <td>C123</td>\n",
       "      <td>S</td>\n",
       "      <td>2.0</td>\n",
       "    </tr>\n",
       "    <tr>\n",
       "      <th>4</th>\n",
       "      <td>5</td>\n",
       "      <td>0</td>\n",
       "      <td>3</td>\n",
       "      <td>Allen, Mr. William Henry</td>\n",
       "      <td>male</td>\n",
       "      <td>35.0</td>\n",
       "      <td>0</td>\n",
       "      <td>0</td>\n",
       "      <td>373450</td>\n",
       "      <td>8.0500</td>\n",
       "      <td>NaN</td>\n",
       "      <td>S</td>\n",
       "      <td>1.0</td>\n",
       "    </tr>\n",
       "    <tr>\n",
       "      <th>5</th>\n",
       "      <td>6</td>\n",
       "      <td>0</td>\n",
       "      <td>3</td>\n",
       "      <td>Moran, Mr. James</td>\n",
       "      <td>male</td>\n",
       "      <td>NaN</td>\n",
       "      <td>0</td>\n",
       "      <td>0</td>\n",
       "      <td>330877</td>\n",
       "      <td>8.4583</td>\n",
       "      <td>NaN</td>\n",
       "      <td>Q</td>\n",
       "      <td>1.0</td>\n",
       "    </tr>\n",
       "    <tr>\n",
       "      <th>6</th>\n",
       "      <td>7</td>\n",
       "      <td>0</td>\n",
       "      <td>1</td>\n",
       "      <td>McCarthy, Mr. Timothy J</td>\n",
       "      <td>male</td>\n",
       "      <td>54.0</td>\n",
       "      <td>0</td>\n",
       "      <td>0</td>\n",
       "      <td>17463</td>\n",
       "      <td>51.8625</td>\n",
       "      <td>E46</td>\n",
       "      <td>S</td>\n",
       "      <td>1.0</td>\n",
       "    </tr>\n",
       "    <tr>\n",
       "      <th>7</th>\n",
       "      <td>8</td>\n",
       "      <td>0</td>\n",
       "      <td>3</td>\n",
       "      <td>Palsson, Master. Gosta Leonard</td>\n",
       "      <td>male</td>\n",
       "      <td>2.0</td>\n",
       "      <td>3</td>\n",
       "      <td>1</td>\n",
       "      <td>349909</td>\n",
       "      <td>21.0750</td>\n",
       "      <td>NaN</td>\n",
       "      <td>S</td>\n",
       "      <td>5.0</td>\n",
       "    </tr>\n",
       "    <tr>\n",
       "      <th>8</th>\n",
       "      <td>9</td>\n",
       "      <td>1</td>\n",
       "      <td>3</td>\n",
       "      <td>Johnson, Mrs. Oscar W (Elisabeth Vilhelmina Berg)</td>\n",
       "      <td>female</td>\n",
       "      <td>27.0</td>\n",
       "      <td>0</td>\n",
       "      <td>2</td>\n",
       "      <td>347742</td>\n",
       "      <td>11.1333</td>\n",
       "      <td>NaN</td>\n",
       "      <td>S</td>\n",
       "      <td>3.0</td>\n",
       "    </tr>\n",
       "    <tr>\n",
       "      <th>9</th>\n",
       "      <td>10</td>\n",
       "      <td>1</td>\n",
       "      <td>2</td>\n",
       "      <td>Nasser, Mrs. Nicholas (Adele Achem)</td>\n",
       "      <td>female</td>\n",
       "      <td>14.0</td>\n",
       "      <td>1</td>\n",
       "      <td>0</td>\n",
       "      <td>237736</td>\n",
       "      <td>30.0708</td>\n",
       "      <td>NaN</td>\n",
       "      <td>C</td>\n",
       "      <td>2.0</td>\n",
       "    </tr>\n",
       "  </tbody>\n",
       "</table>\n",
       "</div>"
      ],
      "text/plain": [
       "   PassengerId  Survived  Pclass  \\\n",
       "0            1         0       3   \n",
       "1            2         1       1   \n",
       "2            3         1       3   \n",
       "3            4         1       1   \n",
       "4            5         0       3   \n",
       "5            6         0       3   \n",
       "6            7         0       1   \n",
       "7            8         0       3   \n",
       "8            9         1       3   \n",
       "9           10         1       2   \n",
       "\n",
       "                                                Name     Sex   Age  SibSp  \\\n",
       "0                            Braund, Mr. Owen Harris    male  22.0      1   \n",
       "1  Cumings, Mrs. John Bradley (Florence Briggs Th...  female  38.0      1   \n",
       "2                             Heikkinen, Miss. Laina  female  26.0      0   \n",
       "3       Futrelle, Mrs. Jacques Heath (Lily May Peel)  female  35.0      1   \n",
       "4                           Allen, Mr. William Henry    male  35.0      0   \n",
       "5                                   Moran, Mr. James    male   NaN      0   \n",
       "6                            McCarthy, Mr. Timothy J    male  54.0      0   \n",
       "7                     Palsson, Master. Gosta Leonard    male   2.0      3   \n",
       "8  Johnson, Mrs. Oscar W (Elisabeth Vilhelmina Berg)  female  27.0      0   \n",
       "9                Nasser, Mrs. Nicholas (Adele Achem)  female  14.0      1   \n",
       "\n",
       "   Parch            Ticket     Fare Cabin Embarked  family_size  \n",
       "0      0         A/5 21171   7.2500   NaN        S          2.0  \n",
       "1      0          PC 17599  71.2833   C85        C          2.0  \n",
       "2      0  STON/O2. 3101282   7.9250   NaN        S          1.0  \n",
       "3      0            113803  53.1000  C123        S          2.0  \n",
       "4      0            373450   8.0500   NaN        S          1.0  \n",
       "5      0            330877   8.4583   NaN        Q          1.0  \n",
       "6      0             17463  51.8625   E46        S          1.0  \n",
       "7      1            349909  21.0750   NaN        S          5.0  \n",
       "8      2            347742  11.1333   NaN        S          3.0  \n",
       "9      0            237736  30.0708   NaN        C          2.0  "
      ]
     },
     "execution_count": 104,
     "metadata": {},
     "output_type": "execute_result"
    }
   ],
   "source": [
    "### LOADING THE DATASET ###\n",
    "df1= pd.read_csv(r\"C:\\Users\\LENOVO\\Desktop\\sample datasets\\train_eda.csv\")\n",
    "df2= pd.read_csv(r\"C:\\Users\\LENOVO\\Desktop\\sample datasets\\test_eda.csv\")\n",
    "df = pd.concat([df,df1])\n",
    "df.head(10)"
   ]
  },
  {
   "cell_type": "markdown",
   "id": "fe583bb7",
   "metadata": {},
   "source": [
    "# 1. UNDERSTANDING THE DATA:-\n",
    "  -checking for number of rows, columns\n",
    "  \n",
    "  -checking for column names, their data types\n",
    "  \n",
    "  -checking for missing value count\n",
    "  \n",
    "  -classifying columns as numerical, categorical and mixed"
   ]
  },
  {
   "cell_type": "code",
   "execution_count": 105,
   "id": "3914b5a2",
   "metadata": {},
   "outputs": [
    {
     "data": {
      "text/plain": [
       "(2673, 13)"
      ]
     },
     "execution_count": 105,
     "metadata": {},
     "output_type": "execute_result"
    }
   ],
   "source": [
    "df.shape"
   ]
  },
  {
   "cell_type": "code",
   "execution_count": 106,
   "id": "828a4519",
   "metadata": {},
   "outputs": [
    {
     "data": {
      "text/plain": [
       "Index(['PassengerId', 'Survived', 'Pclass', 'Name', 'Sex', 'Age', 'SibSp',\n",
       "       'Parch', 'Ticket', 'Fare', 'Cabin', 'Embarked', 'family_size'],\n",
       "      dtype='object')"
      ]
     },
     "execution_count": 106,
     "metadata": {},
     "output_type": "execute_result"
    }
   ],
   "source": [
    "df.columns"
   ]
  },
  {
   "cell_type": "code",
   "execution_count": 107,
   "id": "7c458d30",
   "metadata": {},
   "outputs": [
    {
     "data": {
      "text/plain": [
       "PassengerId       0\n",
       "Survived          0\n",
       "Pclass            0\n",
       "Name              0\n",
       "Sex               0\n",
       "Age             531\n",
       "SibSp             0\n",
       "Parch             0\n",
       "Ticket            0\n",
       "Fare              0\n",
       "Cabin          2061\n",
       "Embarked          6\n",
       "family_size    1782\n",
       "dtype: int64"
      ]
     },
     "execution_count": 107,
     "metadata": {},
     "output_type": "execute_result"
    }
   ],
   "source": [
    "df.isnull().sum()"
   ]
  },
  {
   "cell_type": "code",
   "execution_count": 108,
   "id": "2c0eb52c",
   "metadata": {},
   "outputs": [
    {
     "data": {
      "text/plain": [
       "PassengerId      int64\n",
       "Survived         int64\n",
       "Pclass           int64\n",
       "Name            object\n",
       "Sex             object\n",
       "Age            float64\n",
       "SibSp            int64\n",
       "Parch            int64\n",
       "Ticket          object\n",
       "Fare           float64\n",
       "Cabin           object\n",
       "Embarked        object\n",
       "family_size    float64\n",
       "dtype: object"
      ]
     },
     "execution_count": 108,
     "metadata": {},
     "output_type": "execute_result"
    }
   ],
   "source": [
    "df.dtypes"
   ]
  },
  {
   "cell_type": "markdown",
   "id": "9a5898a8",
   "metadata": {},
   "source": [
    "##### classifying columns ########\n",
    "numerical- PassengerId, Age, Fare,\n",
    "\n",
    "categorical- Survived, Pclass, Sex, SibSp, Parch, Embarked\n",
    "\n",
    "mixed- Name, Ticket, Cabin"
   ]
  },
  {
   "cell_type": "markdown",
   "id": "c361784f",
   "metadata": {},
   "source": [
    "# 2. BASIC DATA CLEANING:-\n",
    " -correct data type of column (if needed) ex- object-> datetime\n",
    " \n",
    " -fix inconsistent data (standardize values)\n",
    " \n",
    " -rename columns (if needed)\n",
    " \n",
    " -change indices (if needed)"
   ]
  },
  {
   "cell_type": "markdown",
   "id": "b4c6f488",
   "metadata": {},
   "source": [
    "########  common inbuild functions that can be used to perform basic data cleaning  ##########\n",
    "\n",
    "\n",
    "1\tCorrect Types:-   \t.astype(), pd.to_datetime()\n",
    "\n",
    "2\tRemove Duplicates:- \t.duplicated(), .drop_duplicates()\n",
    "\n",
    "3\tFix Categories:- \t.str.lower(), .str.strip()\n",
    "\n",
    "4\tRename Columns:- \t.rename(columns={})\n",
    "\n",
    "5\tReset Index:- \t.reset_index(drop=True)"
   ]
  },
  {
   "cell_type": "code",
   "execution_count": 109,
   "id": "44c641d0",
   "metadata": {},
   "outputs": [
    {
     "data": {
      "text/plain": [
       "<bound method Series.unique of 0      22.0\n",
       "1      38.0\n",
       "2      26.0\n",
       "3      35.0\n",
       "4      35.0\n",
       "       ... \n",
       "886    27.0\n",
       "887    19.0\n",
       "888     NaN\n",
       "889    26.0\n",
       "890    32.0\n",
       "Name: Age, Length: 2673, dtype: float64>"
      ]
     },
     "execution_count": 109,
     "metadata": {},
     "output_type": "execute_result"
    }
   ],
   "source": [
    "df['Age'].unique"
   ]
  },
  {
   "cell_type": "code",
   "execution_count": 110,
   "id": "781b8e54",
   "metadata": {},
   "outputs": [
    {
     "name": "stdout",
     "output_type": "stream",
     "text": [
      "Sex\n",
      "male      1731\n",
      "female     942\n",
      "Name: count, dtype: int64 Embarked\n",
      "S    1932\n",
      "C     504\n",
      "Q     231\n",
      "Name: count, dtype: int64\n"
     ]
    }
   ],
   "source": [
    "a=df['Sex'].value_counts()\n",
    "b=df['Embarked'].value_counts()\n",
    "print(a,b)"
   ]
  },
  {
   "cell_type": "markdown",
   "id": "f47f13a6",
   "metadata": {},
   "source": [
    "###### conclusion for basic data cleaning ######\n",
    "- no correction needed for column data type\n",
    "  [Age column has values in months(0.4, 0.6) therefore cannot convert it from float to integer]\n",
    "- no inconsistent data values\n",
    "- no need for changing column names and indices "
   ]
  },
  {
   "cell_type": "markdown",
   "id": "9bd8866b",
   "metadata": {},
   "source": [
    "# 3.Univariate Analysis\n",
    "(Univariate analysis focuses on analyzing each feature in the dataset independently)\n",
    "- Distribution analysis: The distribution of each feature is examined to identify its shape, central tendency, and dispersion.\n",
    "- Identifying potential issues: Univariate analysis helps in identifying potential problems with the data such as outliers, skewness, and missing values"
   ]
  },
  {
   "cell_type": "markdown",
   "id": "b7117233",
   "metadata": {},
   "source": [
    "# STEPS INVOLED IN UNIVARIENT ANALYSIS FOR NUMERICAL DATA:-\n",
    " -Descriptive Statistics: Compute basic summary statistics for the column, such as mean, median, mode, standard deviation, range, and quartiles. \n",
    " \n",
    "-Visualizations:Some common visualizations for numerical data include histograms, box plots, and density plots. \n",
    "\n",
    "-Identifying Outliers: Identify and examine any outliers in the data. Outliers can be identified using visualizations. It is important to determine whether the outliers are due to measurement errors, data entry errors, or legitimate differences in the data, and to decide whether to include or exclude them from the analysis.\n",
    "\n",
    "-Skewness:  A distribution that is not symmetrical, with one tail being longer than the other. It can be either positively skewed (right-skewed) or negatively skewed (left-skewed).\n",
    "\n",
    "-Conclusion: Summarize the findings of the EDA and make decisions about how to proceed with further analysis."
   ]
  },
  {
   "cell_type": "code",
   "execution_count": 144,
   "id": "4215bf76",
   "metadata": {},
   "outputs": [
    {
     "data": {
      "text/plain": [
       "count    714.000000\n",
       "mean      29.699118\n",
       "std       14.526497\n",
       "min        0.420000\n",
       "25%       20.125000\n",
       "50%       28.000000\n",
       "75%       38.000000\n",
       "max       80.000000\n",
       "Name: Age, dtype: float64"
      ]
     },
     "execution_count": 144,
     "metadata": {},
     "output_type": "execute_result"
    }
   ],
   "source": [
    "df1['Age'].describe()"
   ]
  },
  {
   "cell_type": "code",
   "execution_count": 145,
   "id": "9a07534c",
   "metadata": {},
   "outputs": [
    {
     "data": {
      "text/plain": [
       "0    24.0\n",
       "Name: Age, dtype: float64"
      ]
     },
     "execution_count": 145,
     "metadata": {},
     "output_type": "execute_result"
    }
   ],
   "source": [
    "df1['Age'].mode()"
   ]
  },
  {
   "cell_type": "code",
   "execution_count": 146,
   "id": "632f43ad",
   "metadata": {},
   "outputs": [
    {
     "data": {
      "text/plain": [
       "177"
      ]
     },
     "execution_count": 146,
     "metadata": {},
     "output_type": "execute_result"
    }
   ],
   "source": [
    "df1['Age'].isnull().sum()"
   ]
  },
  {
   "cell_type": "code",
   "execution_count": 147,
   "id": "018ff5c1",
   "metadata": {},
   "outputs": [
    {
     "data": {
      "text/plain": [
       "19.865319865319865"
      ]
     },
     "execution_count": 147,
     "metadata": {},
     "output_type": "execute_result"
    }
   ],
   "source": [
    "df1['Age'].isnull().sum()/len(df1['Age'])*100"
   ]
  },
  {
   "cell_type": "code",
   "execution_count": 148,
   "id": "bca81e48",
   "metadata": {},
   "outputs": [
    {
     "data": {
      "text/plain": [
       "0.38910778230082704"
      ]
     },
     "execution_count": 148,
     "metadata": {},
     "output_type": "execute_result"
    }
   ],
   "source": [
    "df1['Age'].skew()"
   ]
  },
  {
   "cell_type": "code",
   "execution_count": 149,
   "id": "f94a2316",
   "metadata": {},
   "outputs": [
    {
     "data": {
      "text/plain": [
       "0.17827415364210353"
      ]
     },
     "execution_count": 149,
     "metadata": {},
     "output_type": "execute_result"
    }
   ],
   "source": [
    "df1['Age'].kurt()"
   ]
  },
  {
   "cell_type": "code",
   "execution_count": 150,
   "id": "4406616b",
   "metadata": {},
   "outputs": [
    {
     "data": {
      "text/plain": [
       "<Axes: xlabel='Age', ylabel='Count'>"
      ]
     },
     "execution_count": 150,
     "metadata": {},
     "output_type": "execute_result"
    },
    {
     "data": {
      "image/png": "[encoded data removed]",
      "text/plain": [
       "<Figure size 640x480 with 1 Axes>"
      ]
     },
     "metadata": {},
     "output_type": "display_data"
    }
   ],
   "source": [
    "sns.histplot(df1['Age'], bins=30, kde=True)"
   ]
  },
  {
   "cell_type": "code",
   "execution_count": 151,
   "id": "cc5f0b9d",
   "metadata": {},
   "outputs": [
    {
     "data": {
      "text/plain": [
       "<Axes: xlabel='Age', ylabel='Density'>"
      ]
     },
     "execution_count": 151,
     "metadata": {},
     "output_type": "execute_result"
    },
    {
     "data": {
      "image/png": "[encoded data removed]",
      "text/plain": [
       "<Figure size 640x480 with 1 Axes>"
      ]
     },
     "metadata": {},
     "output_type": "display_data"
    }
   ],
   "source": [
    "sns.kdeplot(df1['Age'])"
   ]
  },
  {
   "cell_type": "code",
   "execution_count": 152,
   "id": "8e17bd31",
   "metadata": {},
   "outputs": [
    {
     "data": {
      "text/plain": [
       "<Axes: >"
      ]
     },
     "execution_count": 152,
     "metadata": {},
     "output_type": "execute_result"
    },
    {
     "data": {
      "image/png": "[encoded data removed]",
      "text/plain": [
       "<Figure size 640x480 with 1 Axes>"
      ]
     },
     "metadata": {},
     "output_type": "display_data"
    }
   ],
   "source": [
    "sns.boxplot(df1['Age'])"
   ]
  },
  {
   "cell_type": "code",
   "execution_count": 153,
   "id": "8de163d9",
   "metadata": {},
   "outputs": [
    {
     "data": {
      "text/html": [
       "<div>\n",
       "<style scoped>\n",
       "    .dataframe tbody tr th:only-of-type {\n",
       "        vertical-align: middle;\n",
       "    }\n",
       "\n",
       "    .dataframe tbody tr th {\n",
       "        vertical-align: top;\n",
       "    }\n",
       "\n",
       "    .dataframe thead th {\n",
       "        text-align: right;\n",
       "    }\n",
       "</style>\n",
       "<table border=\"1\" class=\"dataframe\">\n",
       "  <thead>\n",
       "    <tr style=\"text-align: right;\">\n",
       "      <th></th>\n",
       "      <th>PassengerId</th>\n",
       "      <th>Survived</th>\n",
       "      <th>Pclass</th>\n",
       "      <th>Name</th>\n",
       "      <th>Sex</th>\n",
       "      <th>Age</th>\n",
       "      <th>SibSp</th>\n",
       "      <th>Parch</th>\n",
       "      <th>Ticket</th>\n",
       "      <th>Fare</th>\n",
       "      <th>Cabin</th>\n",
       "      <th>Embarked</th>\n",
       "    </tr>\n",
       "  </thead>\n",
       "  <tbody>\n",
       "    <tr>\n",
       "      <th>33</th>\n",
       "      <td>34</td>\n",
       "      <td>0</td>\n",
       "      <td>2</td>\n",
       "      <td>Wheadon, Mr. Edward H</td>\n",
       "      <td>male</td>\n",
       "      <td>66.0</td>\n",
       "      <td>0</td>\n",
       "      <td>0</td>\n",
       "      <td>C.A. 24579</td>\n",
       "      <td>10.5000</td>\n",
       "      <td>NaN</td>\n",
       "      <td>S</td>\n",
       "    </tr>\n",
       "    <tr>\n",
       "      <th>54</th>\n",
       "      <td>55</td>\n",
       "      <td>0</td>\n",
       "      <td>1</td>\n",
       "      <td>Ostby, Mr. Engelhart Cornelius</td>\n",
       "      <td>male</td>\n",
       "      <td>65.0</td>\n",
       "      <td>0</td>\n",
       "      <td>1</td>\n",
       "      <td>113509</td>\n",
       "      <td>61.9792</td>\n",
       "      <td>B30</td>\n",
       "      <td>C</td>\n",
       "    </tr>\n",
       "    <tr>\n",
       "      <th>96</th>\n",
       "      <td>97</td>\n",
       "      <td>0</td>\n",
       "      <td>1</td>\n",
       "      <td>Goldschmidt, Mr. George B</td>\n",
       "      <td>male</td>\n",
       "      <td>71.0</td>\n",
       "      <td>0</td>\n",
       "      <td>0</td>\n",
       "      <td>PC 17754</td>\n",
       "      <td>34.6542</td>\n",
       "      <td>A5</td>\n",
       "      <td>C</td>\n",
       "    </tr>\n",
       "    <tr>\n",
       "      <th>116</th>\n",
       "      <td>117</td>\n",
       "      <td>0</td>\n",
       "      <td>3</td>\n",
       "      <td>Connors, Mr. Patrick</td>\n",
       "      <td>male</td>\n",
       "      <td>70.5</td>\n",
       "      <td>0</td>\n",
       "      <td>0</td>\n",
       "      <td>370369</td>\n",
       "      <td>7.7500</td>\n",
       "      <td>NaN</td>\n",
       "      <td>Q</td>\n",
       "    </tr>\n",
       "    <tr>\n",
       "      <th>280</th>\n",
       "      <td>281</td>\n",
       "      <td>0</td>\n",
       "      <td>3</td>\n",
       "      <td>Duane, Mr. Frank</td>\n",
       "      <td>male</td>\n",
       "      <td>65.0</td>\n",
       "      <td>0</td>\n",
       "      <td>0</td>\n",
       "      <td>336439</td>\n",
       "      <td>7.7500</td>\n",
       "      <td>NaN</td>\n",
       "      <td>Q</td>\n",
       "    </tr>\n",
       "    <tr>\n",
       "      <th>456</th>\n",
       "      <td>457</td>\n",
       "      <td>0</td>\n",
       "      <td>1</td>\n",
       "      <td>Millet, Mr. Francis Davis</td>\n",
       "      <td>male</td>\n",
       "      <td>65.0</td>\n",
       "      <td>0</td>\n",
       "      <td>0</td>\n",
       "      <td>13509</td>\n",
       "      <td>26.5500</td>\n",
       "      <td>E38</td>\n",
       "      <td>S</td>\n",
       "    </tr>\n",
       "    <tr>\n",
       "      <th>493</th>\n",
       "      <td>494</td>\n",
       "      <td>0</td>\n",
       "      <td>1</td>\n",
       "      <td>Artagaveytia, Mr. Ramon</td>\n",
       "      <td>male</td>\n",
       "      <td>71.0</td>\n",
       "      <td>0</td>\n",
       "      <td>0</td>\n",
       "      <td>PC 17609</td>\n",
       "      <td>49.5042</td>\n",
       "      <td>NaN</td>\n",
       "      <td>C</td>\n",
       "    </tr>\n",
       "    <tr>\n",
       "      <th>630</th>\n",
       "      <td>631</td>\n",
       "      <td>1</td>\n",
       "      <td>1</td>\n",
       "      <td>Barkworth, Mr. Algernon Henry Wilson</td>\n",
       "      <td>male</td>\n",
       "      <td>80.0</td>\n",
       "      <td>0</td>\n",
       "      <td>0</td>\n",
       "      <td>27042</td>\n",
       "      <td>30.0000</td>\n",
       "      <td>A23</td>\n",
       "      <td>S</td>\n",
       "    </tr>\n",
       "    <tr>\n",
       "      <th>672</th>\n",
       "      <td>673</td>\n",
       "      <td>0</td>\n",
       "      <td>2</td>\n",
       "      <td>Mitchell, Mr. Henry Michael</td>\n",
       "      <td>male</td>\n",
       "      <td>70.0</td>\n",
       "      <td>0</td>\n",
       "      <td>0</td>\n",
       "      <td>C.A. 24580</td>\n",
       "      <td>10.5000</td>\n",
       "      <td>NaN</td>\n",
       "      <td>S</td>\n",
       "    </tr>\n",
       "    <tr>\n",
       "      <th>745</th>\n",
       "      <td>746</td>\n",
       "      <td>0</td>\n",
       "      <td>1</td>\n",
       "      <td>Crosby, Capt. Edward Gifford</td>\n",
       "      <td>male</td>\n",
       "      <td>70.0</td>\n",
       "      <td>1</td>\n",
       "      <td>1</td>\n",
       "      <td>WE/P 5735</td>\n",
       "      <td>71.0000</td>\n",
       "      <td>B22</td>\n",
       "      <td>S</td>\n",
       "    </tr>\n",
       "    <tr>\n",
       "      <th>851</th>\n",
       "      <td>852</td>\n",
       "      <td>0</td>\n",
       "      <td>3</td>\n",
       "      <td>Svensson, Mr. Johan</td>\n",
       "      <td>male</td>\n",
       "      <td>74.0</td>\n",
       "      <td>0</td>\n",
       "      <td>0</td>\n",
       "      <td>347060</td>\n",
       "      <td>7.7750</td>\n",
       "      <td>NaN</td>\n",
       "      <td>S</td>\n",
       "    </tr>\n",
       "  </tbody>\n",
       "</table>\n",
       "</div>"
      ],
      "text/plain": [
       "     PassengerId  Survived  Pclass                                  Name  \\\n",
       "33            34         0       2                 Wheadon, Mr. Edward H   \n",
       "54            55         0       1        Ostby, Mr. Engelhart Cornelius   \n",
       "96            97         0       1             Goldschmidt, Mr. George B   \n",
       "116          117         0       3                  Connors, Mr. Patrick   \n",
       "280          281         0       3                      Duane, Mr. Frank   \n",
       "456          457         0       1             Millet, Mr. Francis Davis   \n",
       "493          494         0       1               Artagaveytia, Mr. Ramon   \n",
       "630          631         1       1  Barkworth, Mr. Algernon Henry Wilson   \n",
       "672          673         0       2           Mitchell, Mr. Henry Michael   \n",
       "745          746         0       1          Crosby, Capt. Edward Gifford   \n",
       "851          852         0       3                   Svensson, Mr. Johan   \n",
       "\n",
       "      Sex   Age  SibSp  Parch      Ticket     Fare Cabin Embarked  \n",
       "33   male  66.0      0      0  C.A. 24579  10.5000   NaN        S  \n",
       "54   male  65.0      0      1      113509  61.9792   B30        C  \n",
       "96   male  71.0      0      0    PC 17754  34.6542    A5        C  \n",
       "116  male  70.5      0      0      370369   7.7500   NaN        Q  \n",
       "280  male  65.0      0      0      336439   7.7500   NaN        Q  \n",
       "456  male  65.0      0      0       13509  26.5500   E38        S  \n",
       "493  male  71.0      0      0    PC 17609  49.5042   NaN        C  \n",
       "630  male  80.0      0      0       27042  30.0000   A23        S  \n",
       "672  male  70.0      0      0  C.A. 24580  10.5000   NaN        S  \n",
       "745  male  70.0      1      1   WE/P 5735  71.0000   B22        S  \n",
       "851  male  74.0      0      0      347060   7.7750   NaN        S  "
      ]
     },
     "execution_count": 153,
     "metadata": {},
     "output_type": "execute_result"
    }
   ],
   "source": [
    "df1[df1['Age']>=65]"
   ]
  },
  {
   "cell_type": "markdown",
   "id": "b0555844",
   "metadata": {},
   "source": [
    "######## insights after applying univarient analysis on age column  ########\n",
    "1. has 177 missing values, appox 20% values are missing\n",
    "2. data is normally distributed and has less outliners\n",
    "3. 50% of the people are around the age of 28 years"
   ]
  },
  {
   "cell_type": "code",
   "execution_count": 154,
   "id": "bd1b24f6",
   "metadata": {},
   "outputs": [
    {
     "data": {
      "text/plain": [
       "count    891.000000\n",
       "mean      32.204208\n",
       "std       49.693429\n",
       "min        0.000000\n",
       "25%        7.910400\n",
       "50%       14.454200\n",
       "75%       31.000000\n",
       "max      512.329200\n",
       "Name: Fare, dtype: float64"
      ]
     },
     "execution_count": 154,
     "metadata": {},
     "output_type": "execute_result"
    }
   ],
   "source": [
    "df1['Fare'].describe()"
   ]
  },
  {
   "cell_type": "code",
   "execution_count": 156,
   "id": "d3f60606",
   "metadata": {},
   "outputs": [
    {
     "name": "stdout",
     "output_type": "stream",
     "text": [
      "14.4542 0    8.05\n",
      "Name: Fare, dtype: float64\n"
     ]
    }
   ],
   "source": [
    "a=df1['Fare'].median()\n",
    "b=df1['Fare'].mode()\n",
    "print(a,b)"
   ]
  },
  {
   "cell_type": "code",
   "execution_count": 157,
   "id": "698b37fc",
   "metadata": {},
   "outputs": [
    {
     "data": {
      "text/plain": [
       "0"
      ]
     },
     "execution_count": 157,
     "metadata": {},
     "output_type": "execute_result"
    }
   ],
   "source": [
    "df1['Fare'].isnull().sum()"
   ]
  },
  {
   "cell_type": "code",
   "execution_count": 158,
   "id": "8a7c1384",
   "metadata": {},
   "outputs": [
    {
     "data": {
      "text/plain": [
       "4.787316519674893"
      ]
     },
     "execution_count": 158,
     "metadata": {},
     "output_type": "execute_result"
    }
   ],
   "source": [
    "df1['Fare'].skew()"
   ]
  },
  {
   "cell_type": "code",
   "execution_count": 159,
   "id": "b00b0784",
   "metadata": {},
   "outputs": [
    {
     "data": {
      "text/plain": [
       "33.39814088089868"
      ]
     },
     "execution_count": 159,
     "metadata": {},
     "output_type": "execute_result"
    }
   ],
   "source": [
    "df1['Fare'].kurt()"
   ]
  },
  {
   "cell_type": "code",
   "execution_count": 160,
   "id": "431a7d09",
   "metadata": {},
   "outputs": [
    {
     "data": {
      "text/plain": [
       "<Axes: xlabel='Fare', ylabel='Count'>"
      ]
     },
     "execution_count": 160,
     "metadata": {},
     "output_type": "execute_result"
    },
    {
     "data": {
      "image/png": "[encoded data removed]",
      "text/plain": [
       "<Figure size 640x480 with 1 Axes>"
      ]
     },
     "metadata": {},
     "output_type": "display_data"
    }
   ],
   "source": [
    "sns.histplot(df1['Fare'], bins=30, kde=True)"
   ]
  },
  {
   "cell_type": "code",
   "execution_count": 161,
   "id": "84e63fea",
   "metadata": {},
   "outputs": [
    {
     "data": {
      "text/plain": [
       "<Axes: xlabel='Fare', ylabel='Density'>"
      ]
     },
     "execution_count": 161,
     "metadata": {},
     "output_type": "execute_result"
    },
    {
     "data": {
      "image/png": "[encoded data removed]",
      "text/plain": [
       "<Figure size 640x480 with 1 Axes>"
      ]
     },
     "metadata": {},
     "output_type": "display_data"
    }
   ],
   "source": [
    "sns.kdeplot(df1['Fare'])"
   ]
  },
  {
   "cell_type": "code",
   "execution_count": 176,
   "id": "32e69791",
   "metadata": {},
   "outputs": [
    {
     "data": {
      "text/plain": [
       "<Axes: >"
      ]
     },
     "execution_count": 176,
     "metadata": {},
     "output_type": "execute_result"
    },
    {
     "data": {
      "image/png": "[encoded data removed]",
      "text/plain": [
       "<Figure size 640x480 with 1 Axes>"
      ]
     },
     "metadata": {},
     "output_type": "display_data"
    }
   ],
   "source": [
    "sns.boxplot(df1['Fare'])"
   ]
  },
  {
   "cell_type": "code",
   "execution_count": 163,
   "id": "70415cd7",
   "metadata": {},
   "outputs": [
    {
     "data": {
      "text/plain": [
       "6.397306397306397"
      ]
     },
     "execution_count": 163,
     "metadata": {},
     "output_type": "execute_result"
    }
   ],
   "source": [
    "(df1['Fare']>90).sum()/len(df1['Fare'])*100"
   ]
  },
  {
   "cell_type": "markdown",
   "id": "143700b9",
   "metadata": {},
   "source": [
    "######## insights after applying univarient analysis on fare column  ########\n",
    "1. the coloumn has no missing values\n",
    "2. data is highly skewed (positively) and has outliners(approx 60 or 6%)"
   ]
  },
  {
   "cell_type": "markdown",
   "id": "dcb883ab",
   "metadata": {},
   "source": [
    "# 📖 Physical Significance of Statistical Measures\n",
    "1. **Mean (Average)**\n",
    "\n",
    "What it is: Sum of all values divided by the number of values.\n",
    "\n",
    "Physical Meaning:\n",
    "➔ The \"center of mass\" or \"balance point\" of the data.\n",
    "➔ It tells you the typical value if everyone shared equally.\n",
    "\n",
    "Example:\n",
    "If the mean age is 30 years, most people are centered around that age.\n",
    "\n",
    "\n",
    "2. **Median**\n",
    "\n",
    "What it is: The middle value when all values are sorted.\n",
    "\n",
    "Physical Meaning:\n",
    "➔ It represents the central tendency that's unaffected by extreme values (outliers).\n",
    "➔ Half of the observations are smaller and half are larger.\n",
    "\n",
    "Example:\n",
    "If the median age is 28, then 50% of the people are younger than 28, and 50% are older.\n",
    "\n",
    "\n",
    "3. **Mode**\n",
    "\n",
    "What it is: The most frequent value in the data.\n",
    "\n",
    "Physical Meaning:\n",
    "➔ Represents the most common real-world occurrence.\n",
    "\n",
    "Example:\n",
    "If the mode of age is 24, it means that the largest number of passengers were 24 years old.\n",
    "\n",
    "\n",
    "4. **Variability (Spread)**\n",
    "\n",
    "What it is: How much the data is spread out.\n",
    "\n",
    "Physical Meaning:\n",
    "➔ Measures how different or diverse the individuals are.\n",
    "\n",
    "Example:\n",
    "If age variability is high, there are both very young and very old passengers.\n",
    "If low, most passengers are of similar ages.\n",
    "\n",
    "\n",
    "5. **Standard Deviation**\n",
    "\n",
    "What it is: Square root of variance; shows average distance from the mean.\n",
    "\n",
    "Physical Meaning:\n",
    "➔ Tells how tightly or loosely values are clustered around the mean.\n",
    "\n",
    "Example:\n",
    "\n",
    "Small standard deviation ➔ Most ages are close to the mean age.\n",
    "\n",
    "Large standard deviation ➔ Ages are widely spread out.\n",
    "\n",
    "\n",
    "6. **Skewness**\n",
    "\n",
    "What it is: A measure of asymmetry in the distribution.\n",
    "\n",
    "Physical Meaning:\n",
    "➔ Tells if the data is pulled more to the left or right.\n",
    "\n",
    "Types:\n",
    "\n",
    "Positive skew (right-skewed) ➔ Few very high values pull the mean upward.\n",
    "\n",
    "Negative skew (left-skewed) ➔ Few very low values pull the mean downward.\n",
    "\n",
    "Example:\n",
    "If Age has positive skew, a few old passengers (maybe age 70-80) are pulling the average up.\n",
    "\n",
    "\n",
    "7. **Kurtosis**\n",
    "\n",
    "What it is: A measure of how \"peaked\" or \"flat\" a distribution is.\n",
    "\n",
    "Physical Meaning:\n",
    "➔ Tells whether the data has many extreme values (outliers) or not.\n",
    "\n",
    "Types:\n",
    "\n",
    "High kurtosis ➔ Sharp peak and fat tails (many outliers).\n",
    "\n",
    "Low kurtosis ➔ Flat distribution (fewer outliers).\n",
    "\n",
    "Example:\n",
    "If Age has low kurtosis (like yours ~0.18), most passengers have ages close to the mean, and extreme ages (like 1 year or 80 years) are rare.\n",
    "\n"
   ]
  },
  {
   "cell_type": "markdown",
   "id": "172a752c",
   "metadata": {},
   "source": [
    "# Steps of doing Univariate Analysis on Categorical columns\n",
    "Descriptive Statistics: Compute the frequency distribution of the categories in the column. \n",
    "\n",
    "Missing Values: Check for missing values in the data and decide how to handle them.\n",
    "\n",
    "Visualizations: Create visualizations to explore the distribution of the categories. Some common visualizations for categorical data include count plots and pie charts. \n",
    "\n",
    "Conclusion: Summarize the findings of the EDA and make decisions about how to proceed with further analysis."
   ]
  },
  {
   "cell_type": "code",
   "execution_count": 165,
   "id": "a81e3054",
   "metadata": {},
   "outputs": [
    {
     "data": {
      "text/plain": [
       "0"
      ]
     },
     "execution_count": 165,
     "metadata": {},
     "output_type": "execute_result"
    }
   ],
   "source": [
    "df1['Survived'].isnull().sum()"
   ]
  },
  {
   "cell_type": "code",
   "execution_count": 166,
   "id": "9ddb75ea",
   "metadata": {},
   "outputs": [
    {
     "data": {
      "text/plain": [
       "Survived\n",
       "0    549\n",
       "1    342\n",
       "Name: count, dtype: int64"
      ]
     },
     "execution_count": 166,
     "metadata": {},
     "output_type": "execute_result"
    }
   ],
   "source": [
    "survived_counts=df1['Survived'].value_counts()\n",
    "survived_counts"
   ]
  },
  {
   "cell_type": "code",
   "execution_count": 167,
   "id": "15a10d97",
   "metadata": {},
   "outputs": [
    {
     "data": {
      "text/plain": [
       "Survived\n",
       "0    61.616162\n",
       "1    38.383838\n",
       "Name: proportion, dtype: float64"
      ]
     },
     "execution_count": 167,
     "metadata": {},
     "output_type": "execute_result"
    }
   ],
   "source": [
    "df1['Survived'].value_counts(normalize=True)*100"
   ]
  },
  {
   "cell_type": "code",
   "execution_count": 168,
   "id": "d8ccdca3",
   "metadata": {},
   "outputs": [
    {
     "data": {
      "text/plain": [
       "<Axes: xlabel='Survived', ylabel='count'>"
      ]
     },
     "execution_count": 168,
     "metadata": {},
     "output_type": "execute_result"
    },
    {
     "data": {
      "image/png": "[encoded data removed]",
      "text/plain": [
       "<Figure size 640x480 with 1 Axes>"
      ]
     },
     "metadata": {},
     "output_type": "display_data"
    }
   ],
   "source": [
    "sns.countplot(x='Survived',data=df1)"
   ]
  },
  {
   "cell_type": "code",
   "execution_count": 134,
   "id": "fae4c5f4",
   "metadata": {},
   "outputs": [
    {
     "data": {
      "text/plain": [
       "([<matplotlib.patches.Wedge at 0x1f848cf9310>,\n",
       "  <matplotlib.patches.Wedge at 0x1f8463dca10>],\n",
       " [Text(-0.3925749350994583, 1.0275626113924428, 'Did Not Survive'),\n",
       "  Text(0.3925750313068116, -1.0275625746369201, 'Survived')],\n",
       " [Text(-0.21413178278152267, 0.5604886971231505, '61.6%'),\n",
       "  Text(0.21413183525826085, -0.5604886770746836, '38.4%')])"
      ]
     },
     "execution_count": 134,
     "metadata": {},
     "output_type": "execute_result"
    },
    {
     "data": {
      "image/png": "[encoded data removed]",
      "text/plain": [
       "<Figure size 640x480 with 1 Axes>"
      ]
     },
     "metadata": {},
     "output_type": "display_data"
    }
   ],
   "source": [
    "labels = ['Did Not Survive' if val == 0 else 'Survived' for val in survived_counts.index]\n",
    "mplot.pie(survived_counts, labels=labels, autopct='%1.1f%%')\n"
   ]
  },
  {
   "cell_type": "markdown",
   "id": "d81ff476",
   "metadata": {},
   "source": [
    "######## insights after applying univarient analysis on survived column  ########\n",
    "1. no missing values\n",
    "2. 61% of the people did not survived"
   ]
  },
  {
   "cell_type": "code",
   "execution_count": 169,
   "id": "8114fbe3",
   "metadata": {},
   "outputs": [
    {
     "data": {
      "text/plain": [
       "0"
      ]
     },
     "execution_count": 169,
     "metadata": {},
     "output_type": "execute_result"
    }
   ],
   "source": [
    "df1['Sex'].isnull().sum()"
   ]
  },
  {
   "cell_type": "code",
   "execution_count": 170,
   "id": "b842ab48",
   "metadata": {},
   "outputs": [
    {
     "data": {
      "text/plain": [
       "Sex\n",
       "male      577\n",
       "female    314\n",
       "Name: count, dtype: int64"
      ]
     },
     "execution_count": 170,
     "metadata": {},
     "output_type": "execute_result"
    }
   ],
   "source": [
    "count=df1['Sex'].value_counts()\n",
    "count"
   ]
  },
  {
   "cell_type": "code",
   "execution_count": 171,
   "id": "8c5d0821",
   "metadata": {},
   "outputs": [
    {
     "data": {
      "text/plain": [
       "<Axes: xlabel='Sex', ylabel='count'>"
      ]
     },
     "execution_count": 171,
     "metadata": {},
     "output_type": "execute_result"
    },
    {
     "data": {
      "image/png": "[encoded data removed]",
      "text/plain": [
       "<Figure size 640x480 with 1 Axes>"
      ]
     },
     "metadata": {},
     "output_type": "display_data"
    }
   ],
   "source": [
    "sns.countplot(x='Sex', data=df1)"
   ]
  },
  {
   "cell_type": "code",
   "execution_count": 138,
   "id": "92c214c3",
   "metadata": {},
   "outputs": [
    {
     "data": {
      "text/plain": [
       "([<matplotlib.patches.Wedge at 0x1f84a543710>,\n",
       "  <matplotlib.patches.Wedge at 0x1f84a46ca50>],\n",
       " [Text(-0.4919454136803954, 0.9838646807152012, 'male'),\n",
       "  Text(0.4919455057964525, -0.9838646346559433, 'female')],\n",
       " [Text(-0.2683338620074884, 0.5366534622082915, '64.8%'),\n",
       "  Text(0.26833391225261044, -0.53665343708506, '35.2%')])"
      ]
     },
     "execution_count": 138,
     "metadata": {},
     "output_type": "execute_result"
    },
    {
     "data": {
      "image/png": "[encoded data removed]",
      "text/plain": [
       "<Figure size 640x480 with 1 Axes>"
      ]
     },
     "metadata": {},
     "output_type": "display_data"
    }
   ],
   "source": [
    "labels=['male' if val==\"male\" else 'female'for val in count.index]\n",
    "mplot.pie(count, labels=labels,autopct='%1.1f%%')"
   ]
  },
  {
   "cell_type": "markdown",
   "id": "641fe8d4",
   "metadata": {},
   "source": [
    "######## insights after applying univarient analysis on Sex column  ########\n",
    "1. no missing values\n",
    "2. male dominated data(64.8%)"
   ]
  },
  {
   "cell_type": "code",
   "execution_count": 172,
   "id": "c7ea3094",
   "metadata": {},
   "outputs": [
    {
     "data": {
      "text/plain": [
       "0"
      ]
     },
     "execution_count": 172,
     "metadata": {},
     "output_type": "execute_result"
    }
   ],
   "source": [
    "df1['Pclass'].isnull().sum()"
   ]
  },
  {
   "cell_type": "code",
   "execution_count": 173,
   "id": "56c778ce",
   "metadata": {},
   "outputs": [
    {
     "data": {
      "text/plain": [
       "Pclass\n",
       "3    491\n",
       "1    216\n",
       "2    184\n",
       "Name: count, dtype: int64"
      ]
     },
     "execution_count": 173,
     "metadata": {},
     "output_type": "execute_result"
    }
   ],
   "source": [
    "val_counts=df1['Pclass'].value_counts()\n",
    "val_counts"
   ]
  },
  {
   "cell_type": "code",
   "execution_count": 174,
   "id": "03b1f7a4",
   "metadata": {},
   "outputs": [
    {
     "data": {
      "text/plain": [
       "<Axes: xlabel='Pclass', ylabel='count'>"
      ]
     },
     "execution_count": 174,
     "metadata": {},
     "output_type": "execute_result"
    },
    {
     "data": {
      "image/png": "[encoded data removed]",
      "text/plain": [
       "<Figure size 640x480 with 1 Axes>"
      ]
     },
     "metadata": {},
     "output_type": "display_data"
    }
   ],
   "source": [
    "sns.countplot(x='Pclass', data=df1)"
   ]
  },
  {
   "cell_type": "code",
   "execution_count": 142,
   "id": "314b294e",
   "metadata": {},
   "outputs": [
    {
     "data": {
      "text/plain": [
       "([<matplotlib.patches.Wedge at 0x1f84a4f2710>,\n",
       "  <matplotlib.patches.Wedge at 0x1f84a502690>,\n",
       "  <matplotlib.patches.Wedge at 0x1f84a503d50>],\n",
       " [Text(-0.17571616709359641, 1.0858746836637898, 'third class'),\n",
       "  Text(-0.5160762002061153, -0.9714243951954356, 'first class'),\n",
       "  Text(0.8765111456658484, -0.6646263698677192, 'second class')],\n",
       " [Text(-0.09584518205105258, 0.5922952819984307, '55.1%'),\n",
       "  Text(-0.2814961092033356, -0.5298678519247829, '24.2%'),\n",
       "  Text(0.47809698854500815, -0.3625234744733013, '20.7%')])"
      ]
     },
     "execution_count": 142,
     "metadata": {},
     "output_type": "execute_result"
    },
    {
     "data": {
      "image/png": "[encoded data removed]",
      "text/plain": [
       "<Figure size 640x480 with 1 Axes>"
      ]
     },
     "metadata": {},
     "output_type": "display_data"
    }
   ],
   "source": [
    "lables= ['first class' if val==1 else 'second class' if val==2 else 'third class' for val in val_counts.index]\n",
    "mplot.pie(val_counts, labels=lables, autopct='%1.1f%%')"
   ]
  },
  {
   "cell_type": "markdown",
   "id": "8a5f0abd",
   "metadata": {},
   "source": [
    "######## insights after applying univarient analysis on Pclass column ########\n",
    "1. no missing values\n",
    "2. highest(55.1%) number of people are travelling in third class shows it's more affordable\n",
    "3. then 24.2% people are travelling in first class and lowest count is in second class"
   ]
  },
  {
   "cell_type": "markdown",
   "id": "d0fccd75",
   "metadata": {},
   "source": [
    "# step:4        BiVARIENT ANALYSIS"
   ]
  },
  {
   "cell_type": "markdown",
   "id": "a0530c30",
   "metadata": {},
   "source": [
    "# Steps of doing Bivariate Analysis\n",
    "Select 2 cols\n",
    "\n",
    "Understand type of relationship\n",
    "\n",
    "Numerical - Numerical\n",
    "\n",
    "a. You can plot graphs like scatterplot(regression plots), 2D histplot, 2D KDEplots\n",
    "\n",
    "b. Check correlation coefficent to check linear relationship\n",
    "\n",
    "Numerical - Categorical - create visualizations that compare the distribution of the numerical data across different categories of the categorical data.\n",
    "\n",
    "a. You can plot graphs like barplot, boxplot, kdeplot violinplot even scatterplots\n",
    "\n",
    "Categorical - Categorical\n",
    "\n",
    "a. You can create cross-tabulations or contingency tables that show the distribution of values in one categorical column, grouped by the values in the other categorical column.\n",
    "\n",
    "b. You can plots like heatmap, stacked barplots, treemaps\n",
    "\n",
    "Write your conclusions"
   ]
  },
  {
   "cell_type": "markdown",
   "id": "0da195ad",
   "metadata": {},
   "source": [
    "##  perform bivarient analysis on survived column(output column) and other columns to check how different columns affect the output value\n",
    "Look For Pairs That...\n",
    "\n",
    "1.Contain your target variable \n",
    "\n",
    "2.Have enough variation\n",
    "\n",
    "3.Make logical or domain sense\n",
    "\n",
    "4.Combine categorical + numerical for distribution insights\n",
    "\n",
    "5.Combine categorical + categorical for influence patterns\n",
    "\n",
    "6.Combine numerical + numerical to spot linear trends\n",
    "\n"
   ]
  },
  {
   "cell_type": "code",
   "execution_count": 211,
   "id": "033e64a9",
   "metadata": {},
   "outputs": [],
   "source": [
    "df['family_size']=df['SibSp']+df['Parch']+1"
   ]
  },
  {
   "cell_type": "code",
   "execution_count": 222,
   "id": "0a7630d9",
   "metadata": {},
   "outputs": [],
   "source": [
    "df['individual_fare']=df['Fare']/df['family_size']"
   ]
  },
  {
   "cell_type": "markdown",
   "id": "efd07429",
   "metadata": {},
   "source": [
    "##### we will be performing bivarient analysis on \n",
    "1. survived class and pclass\n",
    "2. survived class and sex\n",
    "3. survived class and age\n",
    "4. survived class and family_size \n",
    "5. pclass and fare"
   ]
  },
  {
   "cell_type": "code",
   "execution_count": 194,
   "id": "48cdcd40",
   "metadata": {},
   "outputs": [
    {
     "data": {
      "text/html": [
       "<div>\n",
       "<style scoped>\n",
       "    .dataframe tbody tr th:only-of-type {\n",
       "        vertical-align: middle;\n",
       "    }\n",
       "\n",
       "    .dataframe tbody tr th {\n",
       "        vertical-align: top;\n",
       "    }\n",
       "\n",
       "    .dataframe thead th {\n",
       "        text-align: right;\n",
       "    }\n",
       "</style>\n",
       "<table border=\"1\" class=\"dataframe\">\n",
       "  <thead>\n",
       "    <tr style=\"text-align: right;\">\n",
       "      <th>Pclass</th>\n",
       "      <th>1</th>\n",
       "      <th>2</th>\n",
       "      <th>3</th>\n",
       "    </tr>\n",
       "    <tr>\n",
       "      <th>Survived</th>\n",
       "      <th></th>\n",
       "      <th></th>\n",
       "      <th></th>\n",
       "    </tr>\n",
       "  </thead>\n",
       "  <tbody>\n",
       "    <tr>\n",
       "      <th>0</th>\n",
       "      <td>80</td>\n",
       "      <td>97</td>\n",
       "      <td>372</td>\n",
       "    </tr>\n",
       "    <tr>\n",
       "      <th>1</th>\n",
       "      <td>136</td>\n",
       "      <td>87</td>\n",
       "      <td>119</td>\n",
       "    </tr>\n",
       "  </tbody>\n",
       "</table>\n",
       "</div>"
      ],
      "text/plain": [
       "Pclass      1   2    3\n",
       "Survived              \n",
       "0          80  97  372\n",
       "1         136  87  119"
      ]
     },
     "execution_count": 194,
     "metadata": {},
     "output_type": "execute_result"
    }
   ],
   "source": [
    "contingency_table= pd.crosstab(df1['Survived'],df1['Pclass'])\n",
    "contingency_table"
   ]
  },
  {
   "cell_type": "code",
   "execution_count": 196,
   "id": "ecc9c288",
   "metadata": {},
   "outputs": [
    {
     "data": {
      "text/html": [
       "<div>\n",
       "<style scoped>\n",
       "    .dataframe tbody tr th:only-of-type {\n",
       "        vertical-align: middle;\n",
       "    }\n",
       "\n",
       "    .dataframe tbody tr th {\n",
       "        vertical-align: top;\n",
       "    }\n",
       "\n",
       "    .dataframe thead th {\n",
       "        text-align: right;\n",
       "    }\n",
       "</style>\n",
       "<table border=\"1\" class=\"dataframe\">\n",
       "  <thead>\n",
       "    <tr style=\"text-align: right;\">\n",
       "      <th>Pclass</th>\n",
       "      <th>1</th>\n",
       "      <th>2</th>\n",
       "      <th>3</th>\n",
       "    </tr>\n",
       "    <tr>\n",
       "      <th>Survived</th>\n",
       "      <th></th>\n",
       "      <th></th>\n",
       "      <th></th>\n",
       "    </tr>\n",
       "  </thead>\n",
       "  <tbody>\n",
       "    <tr>\n",
       "      <th>0</th>\n",
       "      <td>37.037037</td>\n",
       "      <td>52.717391</td>\n",
       "      <td>75.763747</td>\n",
       "    </tr>\n",
       "    <tr>\n",
       "      <th>1</th>\n",
       "      <td>62.962963</td>\n",
       "      <td>47.282609</td>\n",
       "      <td>24.236253</td>\n",
       "    </tr>\n",
       "  </tbody>\n",
       "</table>\n",
       "</div>"
      ],
      "text/plain": [
       "Pclass            1          2          3\n",
       "Survived                                 \n",
       "0         37.037037  52.717391  75.763747\n",
       "1         62.962963  47.282609  24.236253"
      ]
     },
     "execution_count": 196,
     "metadata": {},
     "output_type": "execute_result"
    }
   ],
   "source": [
    "######## checking the rate in percentage\n",
    "pd.crosstab(df1['Survived'],df1['Pclass'],normalize='columns')*100"
   ]
  },
  {
   "cell_type": "markdown",
   "id": "629b92e9",
   "metadata": {},
   "source": [
    "PHYSICAL SIGNIFICANCE OF APPLYING CHI2 TEST ON THE DATA\n",
    "\n",
    "The Chi-Square Test (chi2_contingency) is a statistical test used to determine whether two categorical variables are \n",
    "independent (unrelated) or associated (dependent) in a population.\n",
    "\n",
    "Key Terms Explained:\n",
    "1. 📊 Contingency Table\n",
    "\n",
    "A 2D table showing frequency counts for combinations of the two variables.\n",
    "Example: How many 1st class passengers survived vs didn't, and so on.\n",
    "\n",
    "2. 🧮 Chi2 Statistic (chi2)\n",
    "\n",
    "This measures how far the observed values in your contingency table deviate from the expected values (if the variables were \n",
    "independent).\n",
    "\n",
    "A high chi2 value suggests a large difference = likely dependent\n",
    "\n",
    "A low chi2 value suggests small difference = likely independent\n",
    "\n",
    "3. 📉 P-Value\n",
    "\n",
    "The probability that the observed difference is due to random chance.\n",
    "\n",
    "If p < 0.05 → statistically significant = variables are dependent\n",
    "\n",
    "If p ≥ 0.05 → not significant = variables are likely independent\n",
    "\n",
    "4. 🎯 Degrees of Freedom (dof)\n",
    "\n",
    "This represents the number of values that can vary freely given the constraints.\n",
    "\n",
    "Formula:\n",
    "\n",
    "dof=(rows−1)×(columns−1)"
   ]
  },
  {
   "cell_type": "code",
   "execution_count": 195,
   "id": "ee0d62bc",
   "metadata": {},
   "outputs": [
    {
     "name": "stdout",
     "output_type": "stream",
     "text": [
      "Chi2 value: 102.88898875696056\n",
      "P-Value: 4.549251711298793e-23\n",
      "Degrees of Freedom: 2\n"
     ]
    }
   ],
   "source": [
    "chi2,p,dof,expected=chi2_contingency(contingency_table)\n",
    "print(f\"Chi2 value: {chi2}\")\n",
    "print(f\"P-Value: {p}\")\n",
    "print(f\"Degrees of Freedom: {dof}\")"
   ]
  },
  {
   "cell_type": "code",
   "execution_count": 198,
   "id": "2534a22d",
   "metadata": {},
   "outputs": [
    {
     "data": {
      "text/html": [
       "<div>\n",
       "<style scoped>\n",
       "    .dataframe tbody tr th:only-of-type {\n",
       "        vertical-align: middle;\n",
       "    }\n",
       "\n",
       "    .dataframe tbody tr th {\n",
       "        vertical-align: top;\n",
       "    }\n",
       "\n",
       "    .dataframe thead th {\n",
       "        text-align: right;\n",
       "    }\n",
       "</style>\n",
       "<table border=\"1\" class=\"dataframe\">\n",
       "  <thead>\n",
       "    <tr style=\"text-align: right;\">\n",
       "      <th>Sex</th>\n",
       "      <th>female</th>\n",
       "      <th>male</th>\n",
       "    </tr>\n",
       "    <tr>\n",
       "      <th>Survived</th>\n",
       "      <th></th>\n",
       "      <th></th>\n",
       "    </tr>\n",
       "  </thead>\n",
       "  <tbody>\n",
       "    <tr>\n",
       "      <th>0</th>\n",
       "      <td>81</td>\n",
       "      <td>468</td>\n",
       "    </tr>\n",
       "    <tr>\n",
       "      <th>1</th>\n",
       "      <td>233</td>\n",
       "      <td>109</td>\n",
       "    </tr>\n",
       "  </tbody>\n",
       "</table>\n",
       "</div>"
      ],
      "text/plain": [
       "Sex       female  male\n",
       "Survived              \n",
       "0             81   468\n",
       "1            233   109"
      ]
     },
     "execution_count": 198,
     "metadata": {},
     "output_type": "execute_result"
    }
   ],
   "source": [
    "contingency_table_2= pd.crosstab(df1['Survived'],df1['Sex'])\n",
    "contingency_table_2"
   ]
  },
  {
   "cell_type": "code",
   "execution_count": 199,
   "id": "38ce75f7",
   "metadata": {},
   "outputs": [
    {
     "data": {
      "text/html": [
       "<div>\n",
       "<style scoped>\n",
       "    .dataframe tbody tr th:only-of-type {\n",
       "        vertical-align: middle;\n",
       "    }\n",
       "\n",
       "    .dataframe tbody tr th {\n",
       "        vertical-align: top;\n",
       "    }\n",
       "\n",
       "    .dataframe thead th {\n",
       "        text-align: right;\n",
       "    }\n",
       "</style>\n",
       "<table border=\"1\" class=\"dataframe\">\n",
       "  <thead>\n",
       "    <tr style=\"text-align: right;\">\n",
       "      <th>Sex</th>\n",
       "      <th>female</th>\n",
       "      <th>male</th>\n",
       "    </tr>\n",
       "    <tr>\n",
       "      <th>Survived</th>\n",
       "      <th></th>\n",
       "      <th></th>\n",
       "    </tr>\n",
       "  </thead>\n",
       "  <tbody>\n",
       "    <tr>\n",
       "      <th>0</th>\n",
       "      <td>25.796178</td>\n",
       "      <td>81.109185</td>\n",
       "    </tr>\n",
       "    <tr>\n",
       "      <th>1</th>\n",
       "      <td>74.203822</td>\n",
       "      <td>18.890815</td>\n",
       "    </tr>\n",
       "  </tbody>\n",
       "</table>\n",
       "</div>"
      ],
      "text/plain": [
       "Sex          female       male\n",
       "Survived                      \n",
       "0         25.796178  81.109185\n",
       "1         74.203822  18.890815"
      ]
     },
     "execution_count": 199,
     "metadata": {},
     "output_type": "execute_result"
    }
   ],
   "source": [
    "pd.crosstab(df1['Survived'],df1['Sex'],normalize='columns')*100"
   ]
  },
  {
   "cell_type": "code",
   "execution_count": 203,
   "id": "d79b6e20",
   "metadata": {},
   "outputs": [
    {
     "name": "stdout",
     "output_type": "stream",
     "text": [
      "chi2 value:260.71702016732104\n",
      "p value:1.1973570627755645e-58\n",
      "dof value:1\n"
     ]
    }
   ],
   "source": [
    "chi2,p,dof,expected=chi2_contingency(contingency_table_2)\n",
    "print(f\"chi2 value:{chi2}\")\n",
    "print(f\"p value:{p}\")\n",
    "print(f\"dof value:{dof}\")"
   ]
  },
  {
   "cell_type": "code",
   "execution_count": 215,
   "id": "68cf7a60",
   "metadata": {},
   "outputs": [
    {
     "data": {
      "text/html": [
       "<div>\n",
       "<style scoped>\n",
       "    .dataframe tbody tr th:only-of-type {\n",
       "        vertical-align: middle;\n",
       "    }\n",
       "\n",
       "    .dataframe tbody tr th {\n",
       "        vertical-align: top;\n",
       "    }\n",
       "\n",
       "    .dataframe thead th {\n",
       "        text-align: right;\n",
       "    }\n",
       "</style>\n",
       "<table border=\"1\" class=\"dataframe\">\n",
       "  <thead>\n",
       "    <tr style=\"text-align: right;\">\n",
       "      <th>family_size</th>\n",
       "      <th>1</th>\n",
       "      <th>2</th>\n",
       "      <th>3</th>\n",
       "      <th>4</th>\n",
       "      <th>5</th>\n",
       "      <th>6</th>\n",
       "      <th>7</th>\n",
       "      <th>8</th>\n",
       "      <th>11</th>\n",
       "    </tr>\n",
       "    <tr>\n",
       "      <th>Survived</th>\n",
       "      <th></th>\n",
       "      <th></th>\n",
       "      <th></th>\n",
       "      <th></th>\n",
       "      <th></th>\n",
       "      <th></th>\n",
       "      <th></th>\n",
       "      <th></th>\n",
       "      <th></th>\n",
       "    </tr>\n",
       "  </thead>\n",
       "  <tbody>\n",
       "    <tr>\n",
       "      <th>0</th>\n",
       "      <td>1122</td>\n",
       "      <td>216</td>\n",
       "      <td>129</td>\n",
       "      <td>24</td>\n",
       "      <td>36</td>\n",
       "      <td>57</td>\n",
       "      <td>24</td>\n",
       "      <td>18</td>\n",
       "      <td>21</td>\n",
       "    </tr>\n",
       "    <tr>\n",
       "      <th>1</th>\n",
       "      <td>489</td>\n",
       "      <td>267</td>\n",
       "      <td>177</td>\n",
       "      <td>63</td>\n",
       "      <td>9</td>\n",
       "      <td>9</td>\n",
       "      <td>12</td>\n",
       "      <td>0</td>\n",
       "      <td>0</td>\n",
       "    </tr>\n",
       "  </tbody>\n",
       "</table>\n",
       "</div>"
      ],
      "text/plain": [
       "family_size    1    2    3   4   5   6   7   8   11\n",
       "Survived                                           \n",
       "0            1122  216  129  24  36  57  24  18  21\n",
       "1             489  267  177  63   9   9  12   0   0"
      ]
     },
     "execution_count": 215,
     "metadata": {},
     "output_type": "execute_result"
    }
   ],
   "source": [
    "contingency_table_3= pd.crosstab(df['Survived'],df['family_size'])\n",
    "contingency_table_3"
   ]
  },
  {
   "cell_type": "code",
   "execution_count": 218,
   "id": "903739d7",
   "metadata": {},
   "outputs": [
    {
     "data": {
      "text/html": [
       "<div>\n",
       "<style scoped>\n",
       "    .dataframe tbody tr th:only-of-type {\n",
       "        vertical-align: middle;\n",
       "    }\n",
       "\n",
       "    .dataframe tbody tr th {\n",
       "        vertical-align: top;\n",
       "    }\n",
       "\n",
       "    .dataframe thead th {\n",
       "        text-align: right;\n",
       "    }\n",
       "</style>\n",
       "<table border=\"1\" class=\"dataframe\">\n",
       "  <thead>\n",
       "    <tr style=\"text-align: right;\">\n",
       "      <th>family_size</th>\n",
       "      <th>1</th>\n",
       "      <th>2</th>\n",
       "      <th>3</th>\n",
       "      <th>4</th>\n",
       "      <th>5</th>\n",
       "      <th>6</th>\n",
       "      <th>7</th>\n",
       "      <th>8</th>\n",
       "      <th>11</th>\n",
       "    </tr>\n",
       "    <tr>\n",
       "      <th>Survived</th>\n",
       "      <th></th>\n",
       "      <th></th>\n",
       "      <th></th>\n",
       "      <th></th>\n",
       "      <th></th>\n",
       "      <th></th>\n",
       "      <th></th>\n",
       "      <th></th>\n",
       "      <th></th>\n",
       "    </tr>\n",
       "  </thead>\n",
       "  <tbody>\n",
       "    <tr>\n",
       "      <th>0</th>\n",
       "      <td>69.646182</td>\n",
       "      <td>44.720497</td>\n",
       "      <td>42.156863</td>\n",
       "      <td>27.586207</td>\n",
       "      <td>80.0</td>\n",
       "      <td>86.363636</td>\n",
       "      <td>66.666667</td>\n",
       "      <td>100.0</td>\n",
       "      <td>100.0</td>\n",
       "    </tr>\n",
       "    <tr>\n",
       "      <th>1</th>\n",
       "      <td>30.353818</td>\n",
       "      <td>55.279503</td>\n",
       "      <td>57.843137</td>\n",
       "      <td>72.413793</td>\n",
       "      <td>20.0</td>\n",
       "      <td>13.636364</td>\n",
       "      <td>33.333333</td>\n",
       "      <td>0.0</td>\n",
       "      <td>0.0</td>\n",
       "    </tr>\n",
       "  </tbody>\n",
       "</table>\n",
       "</div>"
      ],
      "text/plain": [
       "family_size         1          2          3          4     5          6   \\\n",
       "Survived                                                                   \n",
       "0            69.646182  44.720497  42.156863  27.586207  80.0  86.363636   \n",
       "1            30.353818  55.279503  57.843137  72.413793  20.0  13.636364   \n",
       "\n",
       "family_size         7      8      11  \n",
       "Survived                              \n",
       "0            66.666667  100.0  100.0  \n",
       "1            33.333333    0.0    0.0  "
      ]
     },
     "execution_count": 218,
     "metadata": {},
     "output_type": "execute_result"
    }
   ],
   "source": [
    "pd.crosstab(df['Survived'],df['family_size'],normalize='columns')*100"
   ]
  },
  {
   "cell_type": "code",
   "execution_count": 217,
   "id": "199e4212",
   "metadata": {},
   "outputs": [
    {
     "name": "stdout",
     "output_type": "stream",
     "text": [
      "chi2 value: 242.01694031349234\n",
      "p value: 8.468292196545625e-48\n",
      "dof value: 8\n"
     ]
    }
   ],
   "source": [
    "chi2,p,dof,expected=chi2_contingency(contingency_table_3)\n",
    "print(f\"chi2 value: {chi2}\")\n",
    "print(f\"p value: {p}\")\n",
    "print(f\"dof value: {dof}\")"
   ]
  },
  {
   "cell_type": "code",
   "execution_count": 221,
   "id": "e0018da3",
   "metadata": {},
   "outputs": [
    {
     "data": {
      "image/png": "[encoded data removed]",
      "text/plain": [
       "<Figure size 640x480 with 1 Axes>"
      ]
     },
     "metadata": {},
     "output_type": "display_data"
    }
   ],
   "source": [
    "df[df['Survived'] == 1]['Age'].plot(kind='kde',label='Survived')\n",
    "df[df['Survived'] == 0]['Age'].plot(kind='kde',label='Not Survived')\n",
    "\n",
    "mplot.legend()\n",
    "mplot.show()"
   ]
  },
  {
   "cell_type": "code",
   "execution_count": 226,
   "id": "b36909bc",
   "metadata": {},
   "outputs": [
    {
     "data": {
      "text/html": [
       "<div>\n",
       "<style scoped>\n",
       "    .dataframe tbody tr th:only-of-type {\n",
       "        vertical-align: middle;\n",
       "    }\n",
       "\n",
       "    .dataframe tbody tr th {\n",
       "        vertical-align: top;\n",
       "    }\n",
       "\n",
       "    .dataframe thead th {\n",
       "        text-align: right;\n",
       "    }\n",
       "</style>\n",
       "<table border=\"1\" class=\"dataframe\">\n",
       "  <thead>\n",
       "    <tr style=\"text-align: right;\">\n",
       "      <th>individual_fare</th>\n",
       "      <th>0.000000</th>\n",
       "      <th>1.132143</th>\n",
       "      <th>2.409733</th>\n",
       "      <th>2.583333</th>\n",
       "      <th>2.618067</th>\n",
       "      <th>2.641667</th>\n",
       "      <th>2.875000</th>\n",
       "      <th>2.887500</th>\n",
       "      <th>3.125000</th>\n",
       "      <th>3.247900</th>\n",
       "      <th>...</th>\n",
       "      <th>134.500000</th>\n",
       "      <th>135.633300</th>\n",
       "      <th>146.520800</th>\n",
       "      <th>151.550000</th>\n",
       "      <th>153.462500</th>\n",
       "      <th>211.337500</th>\n",
       "      <th>221.779200</th>\n",
       "      <th>227.525000</th>\n",
       "      <th>256.164600</th>\n",
       "      <th>512.329200</th>\n",
       "    </tr>\n",
       "    <tr>\n",
       "      <th>Pclass</th>\n",
       "      <th></th>\n",
       "      <th></th>\n",
       "      <th></th>\n",
       "      <th></th>\n",
       "      <th></th>\n",
       "      <th></th>\n",
       "      <th></th>\n",
       "      <th></th>\n",
       "      <th></th>\n",
       "      <th></th>\n",
       "      <th></th>\n",
       "      <th></th>\n",
       "      <th></th>\n",
       "      <th></th>\n",
       "      <th></th>\n",
       "      <th></th>\n",
       "      <th></th>\n",
       "      <th></th>\n",
       "      <th></th>\n",
       "      <th></th>\n",
       "      <th></th>\n",
       "    </tr>\n",
       "  </thead>\n",
       "  <tbody>\n",
       "    <tr>\n",
       "      <th>1</th>\n",
       "      <td>15</td>\n",
       "      <td>0</td>\n",
       "      <td>0</td>\n",
       "      <td>0</td>\n",
       "      <td>0</td>\n",
       "      <td>0</td>\n",
       "      <td>0</td>\n",
       "      <td>0</td>\n",
       "      <td>0</td>\n",
       "      <td>0</td>\n",
       "      <td>...</td>\n",
       "      <td>3</td>\n",
       "      <td>9</td>\n",
       "      <td>3</td>\n",
       "      <td>3</td>\n",
       "      <td>3</td>\n",
       "      <td>3</td>\n",
       "      <td>3</td>\n",
       "      <td>9</td>\n",
       "      <td>3</td>\n",
       "      <td>6</td>\n",
       "    </tr>\n",
       "    <tr>\n",
       "      <th>2</th>\n",
       "      <td>18</td>\n",
       "      <td>0</td>\n",
       "      <td>0</td>\n",
       "      <td>0</td>\n",
       "      <td>0</td>\n",
       "      <td>0</td>\n",
       "      <td>3</td>\n",
       "      <td>0</td>\n",
       "      <td>3</td>\n",
       "      <td>0</td>\n",
       "      <td>...</td>\n",
       "      <td>0</td>\n",
       "      <td>0</td>\n",
       "      <td>0</td>\n",
       "      <td>0</td>\n",
       "      <td>0</td>\n",
       "      <td>0</td>\n",
       "      <td>0</td>\n",
       "      <td>0</td>\n",
       "      <td>0</td>\n",
       "      <td>0</td>\n",
       "    </tr>\n",
       "    <tr>\n",
       "      <th>3</th>\n",
       "      <td>12</td>\n",
       "      <td>3</td>\n",
       "      <td>6</td>\n",
       "      <td>3</td>\n",
       "      <td>3</td>\n",
       "      <td>6</td>\n",
       "      <td>0</td>\n",
       "      <td>3</td>\n",
       "      <td>0</td>\n",
       "      <td>3</td>\n",
       "      <td>...</td>\n",
       "      <td>0</td>\n",
       "      <td>0</td>\n",
       "      <td>0</td>\n",
       "      <td>0</td>\n",
       "      <td>0</td>\n",
       "      <td>0</td>\n",
       "      <td>0</td>\n",
       "      <td>0</td>\n",
       "      <td>0</td>\n",
       "      <td>0</td>\n",
       "    </tr>\n",
       "  </tbody>\n",
       "</table>\n",
       "<p>3 rows × 289 columns</p>\n",
       "</div>"
      ],
      "text/plain": [
       "individual_fare  0.000000    1.132143    2.409733    2.583333    2.618067    \\\n",
       "Pclass                                                                        \n",
       "1                        15           0           0           0           0   \n",
       "2                        18           0           0           0           0   \n",
       "3                        12           3           6           3           3   \n",
       "\n",
       "individual_fare  2.641667    2.875000    2.887500    3.125000    3.247900    \\\n",
       "Pclass                                                                        \n",
       "1                         0           0           0           0           0   \n",
       "2                         0           3           0           3           0   \n",
       "3                         6           0           3           0           3   \n",
       "\n",
       "individual_fare  ...  134.500000  135.633300  146.520800  151.550000  \\\n",
       "Pclass           ...                                                   \n",
       "1                ...           3           9           3           3   \n",
       "2                ...           0           0           0           0   \n",
       "3                ...           0           0           0           0   \n",
       "\n",
       "individual_fare  153.462500  211.337500  221.779200  227.525000  256.164600  \\\n",
       "Pclass                                                                        \n",
       "1                         3           3           3           9           3   \n",
       "2                         0           0           0           0           0   \n",
       "3                         0           0           0           0           0   \n",
       "\n",
       "individual_fare  512.329200  \n",
       "Pclass                       \n",
       "1                         6  \n",
       "2                         0  \n",
       "3                         0  \n",
       "\n",
       "[3 rows x 289 columns]"
      ]
     },
     "execution_count": 226,
     "metadata": {},
     "output_type": "execute_result"
    }
   ],
   "source": [
    "contingency_table_4= pd.crosstab(df['Pclass'],df['individual_fare'])\n",
    "contingency_table_4"
   ]
  },
  {
   "cell_type": "code",
   "execution_count": 229,
   "id": "8ae4faeb",
   "metadata": {},
   "outputs": [
    {
     "name": "stdout",
     "output_type": "stream",
     "text": [
      "chi2 value: 5095.099696714779\n",
      "p value: 0.0\n",
      "dof value: 576\n"
     ]
    }
   ],
   "source": [
    "chi2,p,dof,expected=chi2_contingency(contingency_table_4)\n",
    "print(f\"chi2 value: {chi2}\")\n",
    "print(f\"p value: {p}\")\n",
    "print(f\"dof value: {dof}\")"
   ]
  },
  {
   "cell_type": "markdown",
   "id": "d4a2d166",
   "metadata": {},
   "source": [
    "# STEP:5  INDENTIFYING PATTERNS AND INSIGHTS AND DOCUMENTING CONCLUSIONS"
   ]
  },
  {
   "cell_type": "markdown",
   "id": "6720e2f0",
   "metadata": {},
   "source": [
    "classifying columns\n",
    "numerical- PassengerId, Age, Fare,\n",
    "\n",
    "categorical- Survived, Pclass, Sex, SibSp, Parch, Embarked\n",
    "\n",
    "mixed- Name, Ticket, Cabin"
   ]
  },
  {
   "cell_type": "markdown",
   "id": "324abe33",
   "metadata": {},
   "source": [
    "------------------------------------------------------------------------------------------------------------------------"
   ]
  },
  {
   "cell_type": "markdown",
   "id": "75e1c205",
   "metadata": {},
   "source": [
    "###### conclusion for basic data cleaning ######\n",
    "- no correction needed for column data type\n",
    "  [Age column has values in months(0.4, 0.6) therefore cannot convert it from float to integer]\n",
    "- no inconsistent data values\n",
    "- no need for changing column names and indices "
   ]
  },
  {
   "cell_type": "markdown",
   "id": "3c64cd15",
   "metadata": {},
   "source": [
    "------------------------------------------------------------------------------------------------------------------------"
   ]
  },
  {
   "cell_type": "markdown",
   "id": "929622a7",
   "metadata": {},
   "source": [
    "######## insights after applying univarient analysis on age column ########\n",
    "\n",
    "1. has 177 missing values, appox 20% values are missing\n",
    "2. data is normally distributed and has less outliners\n",
    "3. 50% of the people are around the age of 28 years\n",
    "\n",
    "\n",
    "######## insights after applying univarient analysis on fare column  ########\n",
    "1. the coloumn has no missing values\n",
    "2. data is highly skewed (positively) and has outliners(approx 60 or 6%)\n",
    "\n",
    "\n",
    "######## insights after applying univarient analysis on survived column  ########\n",
    "1. no missing values\n",
    "2. 61% of the people did not survived\n",
    "\n",
    "######## insights after applying univarient analysis on Sex column  ########\n",
    "1. no missing values\n",
    "2. male dominated data(64.8%)\n",
    "\n",
    "######## insights after applying univarient analysis on Pclass column ########\n",
    "1. no missing values\n",
    "2. highest(55.1%) number of people are travelling in third class shows it's more affordable\n",
    "3. then 24.2% people are travelling in first class and lowest count is in second class"
   ]
  },
  {
   "cell_type": "markdown",
   "id": "efd8556d",
   "metadata": {},
   "source": [
    "------------------------------------------------------------------------------------------------------------------------"
   ]
  },
  {
   "cell_type": "markdown",
   "id": "65715f2c",
   "metadata": {},
   "source": [
    "########### conclusions from performing bivarient analysis ########\n",
    "1. pclass and gender are highly affecting the survival rate\n",
    " - females have a higher survival(74%) rate and males have less survival rate(18%)\n",
    " - people in first class have higher survival rate and people in 2nd and 3rd class have less survival rate\n",
    "2. age is also affecting the survival rate but not much difference is there\n",
    "3. family size\n",
    " - individuals and family with family_size> 5 have very less survival rate\n",
    " - people with small family_size ie- >2 but <6 have higher survival rate\n",
    "4. fare and pclass:\n",
    " - 1st class: high fare\n",
    " - 2nd class: medium fare\n",
    " - 3rd class: low fare"
   ]
  }
 ],
 "metadata": {
  "kernelspec": {
   "display_name": "Python 3 (ipykernel)",
   "language": "python",
   "name": "python3"
  },
  "language_info": {
   "codemirror_mode": {
    "name": "ipython",
    "version": 3
   },
   "file_extension": ".py",
   "mimetype": "text/x-python",
   "name": "python",
   "nbconvert_exporter": "python",
   "pygments_lexer": "ipython3",
   "version": "3.11.5"
  }
 },
 "nbformat": 4,
 "nbformat_minor": 5
}
